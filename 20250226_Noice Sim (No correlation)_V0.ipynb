{
 "cells": [
  {
   "cell_type": "markdown",
   "metadata": {},
   "source": [
    "# Simulation Study for Noise Filtering\n",
    "\n",
    "This is the v0 for the simulation study on the sparse jump model comparison with HMM, to show that SJM is able to filter away noisy data by using the weighting in the algorithm.\n"
   ]
  },
  {
   "cell_type": "code",
   "execution_count": 3,
   "metadata": {},
   "outputs": [],
   "source": [
    "#Importing packages\n",
    "import numpy as np\n",
    "import pandas as pd\n",
    "\n",
    "from hmmlearn import hmm\n",
    "from sklearn.metrics import balanced_accuracy_score, confusion_matrix\n",
    "from scipy.optimize import linear_sum_assignment\n",
    "from scipy import stats\n",
    "\n",
    "# classes as in your original code.\n",
    "from jumpmodels.jump import JumpModel\n",
    "from jumpmodels.sparse_jump import SparseJumpModel"
   ]
  },
  {
   "cell_type": "code",
   "execution_count": 6,
   "metadata": {},
   "outputs": [
    {
     "name": "stdout",
     "output_type": "stream",
     "text": [
      "   Feature_1  Feature_2  Feature_3  Feature_4  Feature_5  Feature_6  Feature_7  Feature_8  Feature_9  Feature_10  ...  Feature_42  Feature_43  Feature_44  Feature_45  Feature_46  Feature_47  Feature_48  Feature_49  Feature_50  State\n",
      "0   1.433215   0.091520   0.580777  -0.056783  -0.170408  -0.779482   0.430301  -0.851537   0.665585    1.085287  ...    1.335784   -0.191344    1.403821   -0.442536    1.455046    0.131486    0.258229    1.564718   -0.361770      1\n",
      "1  -0.941122  -0.448564   0.452334  -1.565759   0.637471  -0.538771   1.147813  -2.394260  -0.786566   -1.686468  ...    0.262036   -0.899695    0.189843   -1.454822    1.336186    1.247950   -0.252517    0.363454   -2.409922      1\n",
      "2  -1.156348  -0.293779  -1.072133   0.714396   1.997297  -1.176615  -0.837463   0.235448   1.611116   -1.222374  ...    0.268913   -0.619666    0.471136   -0.533452   -0.411638    1.362643   -1.040586   -2.412780    1.610937      1\n",
      "3   2.549328  -0.405269  -1.936838  -0.310484  -0.286223  -0.189924  -1.113388   0.579561   0.524507   -1.494406  ...   -0.713875   -1.316830    0.835808    0.349351    2.382602    0.420189    0.387703   -0.166928    0.816776      1\n",
      "4   0.625085   1.251725  -0.521323  -0.435407  -0.479103   0.790802   1.498374  -0.458840  -0.424774    0.314077  ...   -2.280738   -1.496639   -0.922886    1.461179    0.282587    0.767317   -1.140161   -1.119536    0.447814      1\n",
      "\n",
      "[5 rows x 51 columns]\n"
     ]
    }
   ],
   "source": [
    "# ## 1. Data Simulation & Utility Functions\n",
    "\n",
    "def simulate_data(T, P, mu, random_state=None):\n",
    "    \"\"\"\n",
    "    Simulate data from a 3-state Gaussian HMM.\n",
    "    \n",
    "    Parameters:\n",
    "        T (int): Number of observations.\n",
    "        P (int): Total number of features (only first 15 are informative).\n",
    "        mu (float): Signal magnitude for informative features.\n",
    "        random_state (int or None): Seed for reproducibility.\n",
    "        \n",
    "    Returns:\n",
    "        X (ndarray): Simulated observations (T x P).\n",
    "        states (ndarray): True state sequence (length T).\n",
    "    \"\"\"\n",
    "    rng = np.random.default_rng(random_state)\n",
    "    \n",
    "    # Transition matrix as given in your original code\n",
    "    transmat = np.array([[0.9903, 0.0047, 0.0050],\n",
    "                         [0.0157, 0.9666, 0.0177],\n",
    "                         [0.0284, 0.0300, 0.9416]])\n",
    "    transmat = transmat / transmat.sum(axis=1, keepdims=True)\n",
    "    \n",
    "    # Compute stationary distribution (eigenvector corresponding to eigenvalue 1)\n",
    "    eigvals, eigvecs = np.linalg.eig(transmat.T)\n",
    "    stat = np.real(eigvecs[:, np.isclose(eigvals, 1)])\n",
    "    stat = stat[:, 0]\n",
    "    stat = stat / np.sum(stat)\n",
    "    \n",
    "    # Generate state sequence\n",
    "    states = np.zeros(T, dtype=int)\n",
    "    states[0] = rng.choice(np.arange(3), p=stat)\n",
    "    for t in range(1, T):\n",
    "        states[t] = rng.choice(np.arange(3), p=transmat[states[t-1]])\n",
    "    \n",
    "    # Define means for each state\n",
    "    means = np.zeros((3, P))\n",
    "    # State 0: +mu in first 15 features\n",
    "    # State 1: 0\n",
    "    # State 2: -mu in first 15 features\n",
    "    if P >= 15:\n",
    "        means[0, :15] = mu\n",
    "        means[2, :15] = -mu\n",
    "    else:\n",
    "        means[0, :P] = mu\n",
    "        means[2, :P] = -mu\n",
    "    \n",
    "    # Generate observations: N(means[state], I_P)\n",
    "    X = np.zeros((T, P))\n",
    "    for t in range(T):\n",
    "        X[t] = rng.normal(loc=means[states[t]], scale=1.0, size=P)\n",
    "    \n",
    "    return X, states\n",
    "\n",
    "def align_labels(true_labels, pred_labels):\n",
    "    \"\"\"\n",
    "    Align predicted labels with true labels using the Hungarian algorithm.\n",
    "    \n",
    "    Returns:\n",
    "        aligned (ndarray): Predicted labels after optimal permutation.\n",
    "    \"\"\"\n",
    "    D = confusion_matrix(true_labels, pred_labels)\n",
    "    row_ind, col_ind = linear_sum_assignment(-D)\n",
    "    mapping = {col: row for row, col in zip(row_ind, col_ind)}\n",
    "    aligned = np.array([mapping[x] for x in pred_labels])\n",
    "    return aligned\n",
    "\n",
    "# Simulate data\n",
    "T = 500  # Number of observations\n",
    "P = 50   # Total number of features\n",
    "mu = 1.0 # Signal magnitude for informative features\n",
    "random_state = 42\n",
    "\n",
    "X, states = simulate_data(T, P, mu, random_state)\n",
    "\n",
    "# Create a DataFrame to display the states and features\n",
    "df_simulated = pd.DataFrame(X, columns=[f'Feature_{i+1}' for i in range(P)])\n",
    "df_simulated['State'] = states\n",
    "\n",
    "print(df_simulated.head())"
   ]
  },
  {
   "cell_type": "code",
   "execution_count": null,
   "metadata": {},
   "outputs": [],
   "source": []
  }
 ],
 "metadata": {
  "kernelspec": {
   "display_name": "base",
   "language": "python",
   "name": "python3"
  },
  "language_info": {
   "codemirror_mode": {
    "name": "ipython",
    "version": 3
   },
   "file_extension": ".py",
   "mimetype": "text/x-python",
   "name": "python",
   "nbconvert_exporter": "python",
   "pygments_lexer": "ipython3",
   "version": "3.12.2"
  }
 },
 "nbformat": 4,
 "nbformat_minor": 2
}
