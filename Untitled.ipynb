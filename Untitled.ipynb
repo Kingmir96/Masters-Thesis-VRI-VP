{
 "cells": [
  {
   "cell_type": "markdown",
   "id": "2ca686e6-22a8-481a-a8d7-8984534c1dc2",
   "metadata": {},
   "source": [
    "Test File for hmm.GaussianHMM\n",
    "\n",
    "This code is constructed using hmmlearn python package."
   ]
  },
  {
   "cell_type": "code",
   "execution_count": null,
   "id": "99c485d9-1444-4c05-bccc-15f9a82952ac",
   "metadata": {},
   "outputs": [],
   "source": []
  },
  {
   "cell_type": "code",
   "execution_count": null,
   "id": "241324b4-7a38-414a-accc-ae8e878412a7",
   "metadata": {},
   "outputs": [],
   "source": []
  }
 ],
 "metadata": {
  "kernelspec": {
   "display_name": "Python 3 (ipykernel)",
   "language": "python",
   "name": "python3"
  },
  "language_info": {
   "codemirror_mode": {
    "name": "ipython",
    "version": 3
   },
   "file_extension": ".py",
   "mimetype": "text/x-python",
   "name": "python",
   "nbconvert_exporter": "python",
   "pygments_lexer": "ipython3",
   "version": "3.12.2"
  }
 },
 "nbformat": 4,
 "nbformat_minor": 5
}
