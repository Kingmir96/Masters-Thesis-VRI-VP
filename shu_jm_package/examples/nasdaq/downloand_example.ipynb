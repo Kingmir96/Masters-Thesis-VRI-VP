{
 "cells": [
  {
   "cell_type": "code",
   "execution_count": 3,
   "id": "5e51349e-8fa6-4094-8ff3-935cc21b9b22",
   "metadata": {},
   "outputs": [],
   "source": [
    "import json\n",
    "\n",
    "with open(\"example.ipynb\", \"r\", encoding=\"utf-8\") as f:\n",
    "    data = json.load(f)\n",
    "\n",
    "code_cells = [cell[\"source\"] for cell in data[\"cells\"] if cell[\"cell_type\"] == \"code\"]\n",
    "\n",
    "with open(\"extracted_code.py\", \"w\", encoding=\"utf-8\") as f:\n",
    "    for code in code_cells:\n",
    "        f.write(\"\".join(code) + \"\\n\\n\")\n"
   ]
  },
  {
   "cell_type": "code",
   "execution_count": null,
   "id": "fc2b7be5-cd8e-4a81-8e53-53c39a54e0e9",
   "metadata": {},
   "outputs": [],
   "source": []
  },
  {
   "cell_type": "code",
   "execution_count": null,
   "id": "176242e2-22b5-4dc3-9567-8156d5acde28",
   "metadata": {},
   "outputs": [],
   "source": []
  }
 ],
 "metadata": {
  "kernelspec": {
   "display_name": "Python [conda env:base] *",
   "language": "python",
   "name": "conda-base-py"
  },
  "language_info": {
   "codemirror_mode": {
    "name": "ipython",
    "version": 3
   },
   "file_extension": ".py",
   "mimetype": "text/x-python",
   "name": "python",
   "nbconvert_exporter": "python",
   "pygments_lexer": "ipython3",
   "version": "3.12.7"
  }
 },
 "nbformat": 4,
 "nbformat_minor": 5
}
